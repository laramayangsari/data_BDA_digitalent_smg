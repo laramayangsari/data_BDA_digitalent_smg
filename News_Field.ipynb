{
 "cells": [
  {
   "cell_type": "code",
   "execution_count": 1,
   "metadata": {},
   "outputs": [],
   "source": [
    "import pandas as pd\n",
    "import numpy as np\n",
    "import matplotlib.pyplot as plt"
   ]
  },
  {
   "cell_type": "code",
   "execution_count": 2,
   "metadata": {},
   "outputs": [],
   "source": [
    "df = pd.read_csv('uci-news-aggregator.csv')"
   ]
  },
  {
   "cell_type": "code",
   "execution_count": 3,
   "metadata": {},
   "outputs": [
    {
     "data": {
      "text/plain": [
       "422419"
      ]
     },
     "execution_count": 3,
     "metadata": {},
     "output_type": "execute_result"
    }
   ],
   "source": [
    "len(df)"
   ]
  },
  {
   "cell_type": "code",
   "execution_count": 5,
   "metadata": {},
   "outputs": [],
   "source": [
    "tdf = df[['TITLE']]"
   ]
  },
  {
   "cell_type": "code",
   "execution_count": 6,
   "metadata": {},
   "outputs": [
    {
     "data": {
      "text/html": [
       "<div>\n",
       "<style scoped>\n",
       "    .dataframe tbody tr th:only-of-type {\n",
       "        vertical-align: middle;\n",
       "    }\n",
       "\n",
       "    .dataframe tbody tr th {\n",
       "        vertical-align: top;\n",
       "    }\n",
       "\n",
       "    .dataframe thead th {\n",
       "        text-align: right;\n",
       "    }\n",
       "</style>\n",
       "<table border=\"1\" class=\"dataframe\">\n",
       "  <thead>\n",
       "    <tr style=\"text-align: right;\">\n",
       "      <th></th>\n",
       "      <th>TITLE</th>\n",
       "    </tr>\n",
       "  </thead>\n",
       "  <tbody>\n",
       "    <tr>\n",
       "      <th>0</th>\n",
       "      <td>Fed official says weak data caused by weather,...</td>\n",
       "    </tr>\n",
       "    <tr>\n",
       "      <th>1</th>\n",
       "      <td>Fed's Charles Plosser sees high bar for change...</td>\n",
       "    </tr>\n",
       "    <tr>\n",
       "      <th>2</th>\n",
       "      <td>US open: Stocks fall after Fed official hints ...</td>\n",
       "    </tr>\n",
       "    <tr>\n",
       "      <th>3</th>\n",
       "      <td>Fed risks falling 'behind the curve', Charles ...</td>\n",
       "    </tr>\n",
       "    <tr>\n",
       "      <th>4</th>\n",
       "      <td>Fed's Plosser: Nasty Weather Has Curbed Job Gr...</td>\n",
       "    </tr>\n",
       "  </tbody>\n",
       "</table>\n",
       "</div>"
      ],
      "text/plain": [
       "                                               TITLE\n",
       "0  Fed official says weak data caused by weather,...\n",
       "1  Fed's Charles Plosser sees high bar for change...\n",
       "2  US open: Stocks fall after Fed official hints ...\n",
       "3  Fed risks falling 'behind the curve', Charles ...\n",
       "4  Fed's Plosser: Nasty Weather Has Curbed Job Gr..."
      ]
     },
     "execution_count": 6,
     "metadata": {},
     "output_type": "execute_result"
    }
   ],
   "source": [
    "tdf.head()"
   ]
  },
  {
   "cell_type": "code",
   "execution_count": 7,
   "metadata": {},
   "outputs": [],
   "source": [
    "from nltk.corpus import stopwords\n",
    "from nltk import word_tokenize\n",
    "from nltk.stem import PorterStemmer"
   ]
  },
  {
   "cell_type": "code",
   "execution_count": 16,
   "metadata": {},
   "outputs": [],
   "source": [
    "ps = PorterStemmer()"
   ]
  },
  {
   "cell_type": "code",
   "execution_count": 19,
   "metadata": {},
   "outputs": [
    {
     "name": "stdout",
     "output_type": "stream",
     "text": [
      "(0, TITLE    Fed official says weak data caused by weather,...\n",
      "Name: 0, dtype: object)\n",
      "['Fed', 'official', 'says', 'weak', 'data', 'caused', 'by', 'weather', ',', 'should', 'not', 'slow', 'taper']\n",
      "['fed', 'offici', 'say', 'weak', 'data', 'caus', 'by', 'weather', ',', 'should', 'not', 'slow', 'taper']\n",
      "---\n",
      "\n",
      "(1, TITLE    Fed's Charles Plosser sees high bar for change...\n",
      "Name: 1, dtype: object)\n",
      "['Fed', \"'s\", 'Charles', 'Plosser', 'sees', 'high', 'bar', 'for', 'change', 'in', 'pace', 'of', 'tapering']\n",
      "['fed', \"'s\", 'charl', 'plosser', 'see', 'high', 'bar', 'for', 'chang', 'in', 'pace', 'of', 'taper']\n",
      "---\n",
      "\n",
      "(2, TITLE    US open: Stocks fall after Fed official hints ...\n",
      "Name: 2, dtype: object)\n",
      "['US', 'open', ':', 'Stocks', 'fall', 'after', 'Fed', 'official', 'hints', 'at', 'accelerated', 'tapering']\n",
      "['US', 'open', ':', 'stock', 'fall', 'after', 'fed', 'offici', 'hint', 'at', 'acceler', 'taper']\n",
      "---\n",
      "\n"
     ]
    }
   ],
   "source": [
    "c = 0\n",
    "for i in tdf.iterrows():\n",
    "    print(i)\n",
    "    text = i[1].values[0]\n",
    "    tzd_text = word_tokenize(text)\n",
    "    print(tzd_text)\n",
    "    print([ps.stem(i) for i in tzd_text])\n",
    "    print('---')\n",
    "    print()\n",
    "    c += 1\n",
    "    if c == 3:\n",
    "        break"
   ]
  },
  {
   "cell_type": "code",
   "execution_count": 17,
   "metadata": {},
   "outputs": [],
   "source": [
    "# import nltk"
   ]
  },
  {
   "cell_type": "code",
   "execution_count": 18,
   "metadata": {},
   "outputs": [
    {
     "name": "stderr",
     "output_type": "stream",
     "text": [
      "[nltk_data] Downloading package punkt to\n",
      "[nltk_data]     C:\\Users\\HP\\AppData\\Roaming\\nltk_data...\n",
      "[nltk_data]   Unzipping tokenizers\\punkt.zip.\n"
     ]
    },
    {
     "data": {
      "text/plain": [
       "True"
      ]
     },
     "execution_count": 18,
     "metadata": {},
     "output_type": "execute_result"
    }
   ],
   "source": [
    "# nltk.download('punkt')"
   ]
  },
  {
   "cell_type": "code",
   "execution_count": 30,
   "metadata": {},
   "outputs": [],
   "source": [
    "import pyfpgrowth"
   ]
  },
  {
   "cell_type": "code",
   "execution_count": 33,
   "metadata": {},
   "outputs": [
    {
     "name": "stdout",
     "output_type": "stream",
     "text": [
      "0 500 1000 1500 2000 2500 3000 3500 4000 4500 5000 5500 6000 6500 7000 7500 8000 8500 9000 9500 "
     ]
    }
   ],
   "source": [
    "transactions = []\n",
    "for i in tdf.iterrows():\n",
    "    text = i[1].values[0]\n",
    "    tzd_text = word_tokenize(text)\n",
    "    stemmed_text = [ps.stem(i) for i in tzd_text]\n",
    "    transactions.append(stemmed_text)\n",
    "    \n",
    "    if i[0] % 500 == 0: # print progress\n",
    "        print(i[0], end=' ')\n",
    "    if i[0] != 0 and i[0] % 9999 == 0: # take 10000 samples only\n",
    "        break"
   ]
  },
  {
   "cell_type": "code",
   "execution_count": 34,
   "metadata": {},
   "outputs": [
    {
     "data": {
      "text/plain": [
       "10000"
      ]
     },
     "execution_count": 34,
     "metadata": {},
     "output_type": "execute_result"
    }
   ],
   "source": [
    "len(transactions)"
   ]
  },
  {
   "cell_type": "code",
   "execution_count": 35,
   "metadata": {},
   "outputs": [
    {
     "data": {
      "text/plain": [
       "[['fed',\n",
       "  'offici',\n",
       "  'say',\n",
       "  'weak',\n",
       "  'data',\n",
       "  'caus',\n",
       "  'by',\n",
       "  'weather',\n",
       "  ',',\n",
       "  'should',\n",
       "  'not',\n",
       "  'slow',\n",
       "  'taper'],\n",
       " ['fed',\n",
       "  \"'s\",\n",
       "  'charl',\n",
       "  'plosser',\n",
       "  'see',\n",
       "  'high',\n",
       "  'bar',\n",
       "  'for',\n",
       "  'chang',\n",
       "  'in',\n",
       "  'pace',\n",
       "  'of',\n",
       "  'taper'],\n",
       " ['US',\n",
       "  'open',\n",
       "  ':',\n",
       "  'stock',\n",
       "  'fall',\n",
       "  'after',\n",
       "  'fed',\n",
       "  'offici',\n",
       "  'hint',\n",
       "  'at',\n",
       "  'acceler',\n",
       "  'taper']]"
      ]
     },
     "execution_count": 35,
     "metadata": {},
     "output_type": "execute_result"
    }
   ],
   "source": [
    "transactions[0:3]"
   ]
  },
  {
   "cell_type": "code",
   "execution_count": 36,
   "metadata": {},
   "outputs": [],
   "source": [
    "patterns = pyfpgrowth.find_frequent_patterns(transactions, 30)"
   ]
  },
  {
   "cell_type": "code",
   "execution_count": 37,
   "metadata": {},
   "outputs": [
    {
     "data": {
      "text/plain": [
       "3833"
      ]
     },
     "execution_count": 37,
     "metadata": {},
     "output_type": "execute_result"
    }
   ],
   "source": [
    "len(patterns)"
   ]
  },
  {
   "cell_type": "code",
   "execution_count": 38,
   "metadata": {},
   "outputs": [
    {
     "data": {
      "text/plain": [
       "[(('hacker',), 40),\n",
       " (('gox', 'hacker'), 30),\n",
       " (('hope',), 40),\n",
       " (('list', 'swift'), 31),\n",
       " (('list', 'top'), 31),\n",
       " (('list', 'swift', 'top'), 30),\n",
       " (('biggest',), 40),\n",
       " (('women',), 40),\n",
       " (('imag',), 40),\n",
       " (('kid',), 40),\n",
       " (('lena', 'snl'), 31),\n",
       " (('dunham', 'lena', 'snl'), 30),\n",
       " (('dunham', 'snl'), 32),\n",
       " (('libya',), 40),\n",
       " (('S',), 41),\n",
       " (('street',), 41),\n",
       " (('street', 'wall'), 32),\n",
       " (('mix',), 41),\n",
       " (('UK',), 41),\n",
       " (('ignit', 'switch'), 35),\n",
       " (('GM', 'ignit', 'switch'), 34),\n",
       " (('GM', 'switch'), 39),\n",
       " (('movi',), 41),\n",
       " (('grant',), 41),\n",
       " (('flash', 'grant'), 36),\n",
       " (('joke',), 41),\n",
       " (('mar', 'rate'), 40),\n",
       " (('mar', 'mortgag', 'rate'), 46),\n",
       " (('mar', 'mortgag'), 46),\n",
       " (('audit',), 41),\n",
       " (('audit', 'voic'), 40),\n",
       " (('audit', 'the'), 30),\n",
       " (('audit', 'the', 'voic'), 30),\n",
       " (('creat',), 42),\n",
       " (('banana', 'creat'), 30),\n",
       " (('second',), 42),\n",
       " (('york',), 42),\n",
       " (('new', 'york'), 48),\n",
       " (('bill',), 42),\n",
       " (('go',), 42),\n",
       " (('other',), 42),\n",
       " (('efron', 'music', 'school'), 33),\n",
       " (('efron', 'music', 'school', 'zac'), 37),\n",
       " (('music', 'school', 'zac'), 34),\n",
       " (('efron', 'school'), 34),\n",
       " (('efron', 'school', 'zac'), 38),\n",
       " (('school', 'zac'), 35),\n",
       " ((\"'bossi\",), 42),\n",
       " ((\"'bossi\", 'ban'), 33),\n",
       " ((\"'\", \"'bossi\"), 41),\n",
       " ((\"'\", \"'bossi\", 'ban'), 33),\n",
       " (('announc',), 43),\n",
       " (('know',), 43),\n",
       " (('know', 'to'), 31),\n",
       " (('boost',), 43),\n",
       " (('wall',), 43),\n",
       " (('celebr',), 43),\n",
       " (('let',), 43),\n",
       " (('care',), 43),\n",
       " (('chri',), 43),\n",
       " ((\"'\", 'chri'), 33),\n",
       " (('pono', 'young'), 41),\n",
       " (('neil', 'pono'), 41),\n",
       " (('neil', 'pono', 'young'), 45),\n",
       " (('3',), 44),\n",
       " (('ackman',), 44),\n",
       " (('ackman', 'herbalif'), 34),\n",
       " (('life',), 44),\n",
       " (('7',), 44),\n",
       " (('reunion',), 44),\n",
       " ((\"'\", 'reunion'), 33),\n",
       " (('ponomus',), 44),\n",
       " (('ponomus', 'young'), 41),\n",
       " (('neil', 'ponomus'), 40),\n",
       " (('neil', 'ponomus', 'young'), 40),\n",
       " (('sheryl',), 44),\n",
       " (('sandberg', 'sheryl'), 44),\n",
       " (('bank', 'england'), 37),\n",
       " (('bank', 'england', 'of'), 40),\n",
       " (('england', 'of'), 42),\n",
       " (('claim',), 45),\n",
       " (('asia',), 45),\n",
       " (('industri',), 45),\n",
       " (('japan',), 45),\n",
       " (('lead',), 45),\n",
       " (('add',), 45),\n",
       " (('ever',), 45),\n",
       " (('no',), 45),\n",
       " (('photo',), 45),\n",
       " (('fire',), 45),\n",
       " (('mobil',), 45),\n",
       " (('billboard', 'top'), 31),\n",
       " (('billboard', 'swift', 'top'), 30),\n",
       " ((\"'s\", 'billboard', 'taylor'), 34),\n",
       " ((\"'s\", 'billboard', 'swift', 'taylor'), 36),\n",
       " ((\"'s\", 'billboard', 'swift'), 35),\n",
       " (('billboard', 'taylor'), 41),\n",
       " (('billboard', 'swift', 'taylor'), 44),\n",
       " (('billboard', 'swift'), 43),\n",
       " (('januari',), 45)]"
      ]
     },
     "execution_count": 38,
     "metadata": {},
     "output_type": "execute_result"
    }
   ],
   "source": [
    "list(patterns.items())[250:350]"
   ]
  },
  {
   "cell_type": "code",
   "execution_count": 43,
   "metadata": {},
   "outputs": [],
   "source": [
    "rules = pyfpgrowth.generate_association_rules(patterns,0.5)"
   ]
  },
  {
   "cell_type": "code",
   "execution_count": 44,
   "metadata": {},
   "outputs": [
    {
     "data": {
      "text/plain": [
       "2226"
      ]
     },
     "execution_count": 44,
     "metadata": {},
     "output_type": "execute_result"
    }
   ],
   "source": [
    "len(rules)"
   ]
  },
  {
   "cell_type": "code",
   "execution_count": 45,
   "metadata": {},
   "outputs": [
    {
     "data": {
      "text/plain": [
       "[(('street',), (('wall',), 0.7804878048780488)),\n",
       " (('wall',), (('street',), 0.7441860465116279)),\n",
       " (('GM', 'ignit'), (('switch',), 0.5151515151515151)),\n",
       " (('GM', 'switch'), (('ignit',), 0.8717948717948718)),\n",
       " (('ignit', 'switch'), (('GM',), 0.9714285714285714)),\n",
       " (('mar', 'mortgag'), (('rate',), 1.0)),\n",
       " (('mar', 'rate'), (('mortgag',), 1.15)),\n",
       " (('creat',), (('banana',), 0.7142857142857143)),\n",
       " (('york',), (('new',), 1.1428571428571428)),\n",
       " (('efron', 'music'), (('zac',), 1.0606060606060606)),\n",
       " (('efron', 'school'), (('zac',), 1.1176470588235294)),\n",
       " (('efron', 'zac'), ((\"'\",), 0.5833333333333334)),\n",
       " (('music', 'zac'), (('efron',), 1.0294117647058822)),\n",
       " (('school', 'zac'), (('efron',), 1.0857142857142856)),\n",
       " (('efron', 'music', 'school'), (('zac',), 1.121212121212121)),\n",
       " (('efron', 'music', 'zac'), (('school',), 1.0571428571428572)),\n",
       " (('efron', 'school', 'zac'), (('music',), 0.9736842105263158)),\n",
       " (('music', 'school', 'zac'), (('efron',), 1.088235294117647)),\n",
       " ((\"'bossi\",), ((\"'\", 'ban'), 0.7857142857142857)),\n",
       " ((\"'\", \"'bossi\"), (('ban',), 0.8048780487804879)),\n",
       " ((\"'\", 'ban'), ((\"'bossi\",), 0.75)),\n",
       " ((\"'bossi\", 'ban'), ((\"'\",), 1.0)),\n",
       " (('know',), (('to',), 0.7209302325581395)),\n",
       " (('neil', 'pono'), (('young',), 1.0975609756097562)),\n",
       " (('pono', 'young'), (('neil',), 1.0975609756097562)),\n",
       " (('ackman',), (('herbalif',), 0.7727272727272727)),\n",
       " (('reunion',), ((\"'\",), 0.75)),\n",
       " (('ponomus',), (('neil', 'young'), 0.9090909090909091)),\n",
       " (('neil', 'ponomus'), (('young',), 1.0)),\n",
       " (('ponomus', 'young'), (('neil',), 0.975609756097561)),\n",
       " (('sandberg',), (('sheryl',), 0.8979591836734694)),\n",
       " (('sheryl',), (('sandberg',), 1.0)),\n",
       " (('bank', 'england'), (('of',), 1.0810810810810811)),\n",
       " (('bank', 'of'), (('england',), 0.5797101449275363)),\n",
       " (('england', 'of'), (('bank',), 0.9523809523809523)),\n",
       " (('billboard', 'swift'), (('taylor',), 1.0232558139534884)),\n",
       " (('billboard', 'top'), (('swift',), 0.967741935483871)),\n",
       " (('billboard', 'taylor'), (('swift',), 1.0731707317073171)),\n",
       " ((\"'s\", 'swift'), (('top',), 0.6666666666666666)),\n",
       " ((\"'s\", 'billboard', 'swift'), (('taylor',), 1.0285714285714285)),\n",
       " ((\"'s\", 'billboard', 'taylor'), (('swift',), 1.0588235294117647)),\n",
       " ((\"'s\", 'swift', 'taylor'), (('top',), 0.6545454545454545)),\n",
       " (('billboard', 'swift', 'taylor'), ((\"'s\",), 0.8181818181818182)),\n",
       " (('januari',), (('in',), 1.1555555555555554)),\n",
       " (('outfitt',), (('urban',), 0.7666666666666667)),\n",
       " (('urban',), (('outfitt',), 1.0222222222222221)),\n",
       " ((\"'noah\",), ((\"'\",), 1.0888888888888888)),\n",
       " (('cent', 'ga'), (('price',), 0.9375)),\n",
       " (('cent', 'price'), (('ga',), 0.9375)),\n",
       " (('cash',), (('to',), 0.782608695652174)),\n",
       " (('12', 'mortgag'), (('rate',), 1.0930232558139534)),\n",
       " (('12', 'rate'), (('mortgag',), 1.205128205128205)),\n",
       " (('act', 'dunham'), (('lena',), 1.0)),\n",
       " (('act', 'lena'), (('dunham',), 1.0666666666666667)),\n",
       " (('host',), ((\"'\",), 0.7391304347826086)),\n",
       " (('home',), (('mortgag',), 0.717391304347826)),\n",
       " ((\"'game\", 'season'), ((\"'\", 'throne'), 1.0)),\n",
       " ((\"'game\", 'throne'), ((\"'\",), 1.1063829787234043)),\n",
       " ((\"'\", \"'game\"), (('throne',), 1.0612244897959184)),\n",
       " ((\"'\", \"'game\", 'season'), (('throne',), 1.0)),\n",
       " ((\"'\", \"'game\", 'throne'), (('trailer',), 0.7692307692307693)),\n",
       " ((\"'\", 'season', 'throne'), (('trailer',), 0.9210526315789473)),\n",
       " ((\"'game\", 'season', 'throne'), ((\"'\",), 1.0)),\n",
       " ((\"'\", \"'game\", 'of'), (('throne',), 1.1111111111111112)),\n",
       " ((\"'\", 'of', 'throne'), (('trailer',), 0.7555555555555555)),\n",
       " ((\"'game\", 'of', 'throne'), ((\"'\",), 1.1428571428571428)),\n",
       " ((\"'\", 'trailer'), (('of',), 0.5588235294117647)),\n",
       " ((\"'\", \"'game\", 'trailer'), (('throne',), 1.0)),\n",
       " ((\"'\", 'throne', 'trailer'), (('of',), 0.723404255319149)),\n",
       " ((\"'game\", 'throne', 'trailer'), ((\"'\",), 1.0256410256410255)),\n",
       " (('gomez', 'song'), (('bieber',), 1.1333333333333333)),\n",
       " (('justin', 'song'), (('bieber',), 1.2)),\n",
       " (('boy',), (('drug',), 0.7659574468085106)),\n",
       " (('disney',), (('sweeney',), 0.851063829787234)),\n",
       " (('medic',), (('marijuana',), 0.6382978723404256)),\n",
       " (('best',), (('the',), 0.7083333333333334)),\n",
       " (('carplay', 'io'), ((',',), 1.1944444444444444)),\n",
       " ((',', '7.1'), (('io',), 1.0379746835443038)),\n",
       " ((',', 'carplay'), (('appl',), 0.7111111111111111)),\n",
       " ((',', '7.1', 'carplay'), (('io',), 1.0)),\n",
       " ((',', '7.1', 'io'), (('appl',), 0.6585365853658537)),\n",
       " ((',', 'carplay', 'io'), (('7.1',), 1.0)),\n",
       " (('7.1', 'carplay', 'io'), ((',',), 1.2285714285714286)),\n",
       " (('appl', 'carplay'), ((',',), 0.8205128205128205)),\n",
       " (('20',), (('kiss', 'stranger'), 0.8125)),\n",
       " (('20', 'kiss'), (('stranger',), 1.0)),\n",
       " (('20', 'stranger'), (('kiss',), 0.9512195121951219)),\n",
       " (('kiss', 'stranger'), (('first',), 0.5671641791044776)),\n",
       " (('kickstart',), (('neil', 'young'), 0.9375)),\n",
       " (('kickstart', 'neil'), (('young',), 1.0)),\n",
       " (('kickstart', 'young'), (('neil',), 1.0)),\n",
       " (('fanni',), ((',',), 0.631578947368421)),\n",
       " ((',', 'fanni'), (('freddi',), 1.0)),\n",
       " ((',', 'freddi'), (('fanni',), 0.972972972972973)),\n",
       " (('fanni', 'freddi'), ((',',), 0.75)),\n",
       " (('$', '7.6'), (('crush',), 0.8163265306122449)),\n",
       " (('$', 'valuat'), (('crush',), 0.75)),\n",
       " (('7.6', 'valuat'), (('$',), 1.0)),\n",
       " (('7.6', 'ipo'), (('$',), 1.0333333333333334)),\n",
       " (('7.6', 'crush'), (('$',), 1.0256410256410255))]"
      ]
     },
     "execution_count": 45,
     "metadata": {},
     "output_type": "execute_result"
    }
   ],
   "source": [
    "list(rules.items())[100:200]"
   ]
  },
  {
   "cell_type": "code",
   "execution_count": null,
   "metadata": {},
   "outputs": [],
   "source": []
  }
 ],
 "metadata": {
  "kernelspec": {
   "display_name": "Python 3",
   "language": "python",
   "name": "python3"
  },
  "language_info": {
   "codemirror_mode": {
    "name": "ipython",
    "version": 3
   },
   "file_extension": ".py",
   "mimetype": "text/x-python",
   "name": "python",
   "nbconvert_exporter": "python",
   "pygments_lexer": "ipython3",
   "version": "3.7.3"
  }
 },
 "nbformat": 4,
 "nbformat_minor": 2
}
